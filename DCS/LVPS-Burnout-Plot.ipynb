{
 "cells": [
  {
   "cell_type": "code",
   "execution_count": 2,
   "metadata": {},
   "outputs": [],
   "source": [
    "# Imports\n",
    "import numpy as np\n",
    "import matplotlib.pyplot as plt\n",
    "from os import listdir, mkdir, remove, system\n",
    "from os.path import isfile, join\n",
    "from datetime import datetime, date, timedelta"
   ]
  },
  {
   "cell_type": "code",
   "execution_count": 3,
   "metadata": {},
   "outputs": [
    {
     "name": "stdout",
     "output_type": "stream",
     "text": [
      "['LvpsThresMonitor_ATLTILLV00.txt', 'LvpsThresMonitor_ATLTILLV01.txt', 'LvpsThresMonitor_ATLTILLV02.txt', 'LvpsThresMonitor_ATLTILLV03.txt']\n"
     ]
    }
   ],
   "source": [
    "# Import files (should be downloaded ito the same directory as this script)\n",
    "\n",
    "file_pattern = \"LvpsThresMonitor_ATLTILLV0\"\n",
    "path=\"./\"\n",
    "files = [f for f in listdir(path) if isfile(join(path, f)) and file_pattern in f]\n",
    "print(files)"
   ]
  },
  {
   "cell_type": "code",
   "execution_count": 4,
   "metadata": {},
   "outputs": [
    {
     "name": "stdout",
     "output_type": "stream",
     "text": [
      "2022-07-04 00:00:00\n",
      "2022-11-28 12:00:00\n",
      "True\n"
     ]
    }
   ],
   "source": [
    "# Date and time\n",
    "startdate_ = \"2022.07.04 00:00:00.00\"\n",
    "enddate_ = \"2022.11.28 12:00:00.00\"\n",
    "\n",
    "\n",
    "startdate = datetime.strptime(startdate_, \"%Y.%m.%d %H:%M:%S.%f\")\n",
    "enddate = datetime.strptime(enddate_, \"%Y.%m.%d %H:%M:%S.%f\")\n",
    "print(startdate)\n",
    "print(enddate)\n",
    "print(startdate<enddate)"
   ]
  },
  {
   "cell_type": "code",
   "execution_count": 5,
   "metadata": {},
   "outputs": [
    {
     "name": "stdout",
     "output_type": "stream",
     "text": [
      "LvpsThresMonitor_ATLTILLV00.txt\n",
      "LvpsThresMonitor_ATLTILLV01.txt\n",
      "LvpsThresMonitor_ATLTILLV02.txt\n",
      "LvpsThresMonitor_ATLTILLV03.txt\n"
     ]
    }
   ],
   "source": [
    "# Read the files to determine LVPS of interest\n",
    "# Get LVPS list to input to getDataSafely method\n",
    "LVPS_data = []\n",
    "for f in files:\n",
    "    print(f)\n",
    "    # Hard code values: EBA 00, LBA 01, LBC 02, EBC 03:\n",
    "    if \"00\" in f: module=\"EBA\"\n",
    "    elif \"01\" in f: module=\"LBA\"\n",
    "    elif \"02\" in f: module=\"LBC\"\n",
    "    elif \"03\" in f: module=\"EBC\"\n",
    "\n",
    "    # List of LVPS\n",
    "    LVPS_list = []\n",
    "\n",
    "    \n",
    "    file = open(f,\"r\")\n",
    "\n",
    "    for line in file:\n",
    "        # Do not read the lines with just single values\n",
    "        # We want the lines that contain dates and thresholds\n",
    "        if len(line.split(\", \")) > 1:\n",
    "            time = datetime.strptime(line.split(\", \")[0], \"%Y.%m.%d %H:%M:%S.%f\")\n",
    "            LVPS = str(line.split(\", \")[1][5:])\n",
    "            I_reading = float(line.split(\", \")[2].split(\"= \")[1])\n",
    "            I_threshold = float(line.split(\", \")[3].split(\"= \")[1])\n",
    "        \n",
    "            if time >= startdate and time <= enddate:\n",
    "                LVPS_list.append(LVPS)\n",
    "\n",
    "    # Keep onlyunique values \n",
    "    LVPS_list = list(set(LVPS_list))\n",
    "    for LVPS in LVPS_list:\n",
    "        LVPS_data.append([module,LVPS])\n"
   ]
  },
  {
   "cell_type": "code",
   "execution_count": 6,
   "metadata": {},
   "outputs": [
    {
     "name": "stdout",
     "output_type": "stream",
     "text": [
      "['data', 'LVPS-Burnout-Plot.ipynb', 'LVPS-Burnout-Plot.py', 'LvpsThresMonitor_ATLTILLV00.txt', 'LvpsThresMonitor_ATLTILLV01.txt', 'LvpsThresMonitor_ATLTILLV02.txt', 'LvpsThresMonitor_ATLTILLV03.txt', 'plots']\n"
     ]
    }
   ],
   "source": [
    "# Retrieve data from online\n",
    "# Setup folder to feed in data\n",
    "datapath = \"data\"\n",
    "print(listdir(path))\n",
    "if datapath not in listdir(path):\n",
    "    mkdir(datapath)\n",
    "datapath = \"./\"+datapath+\"/\""
   ]
  },
  {
   "cell_type": "code",
   "execution_count": 7,
   "metadata": {},
   "outputs": [],
   "source": [
    "# # URL to retrieve data (do not touch)\n",
    "# url = 'http://atlas-ddv.cern.ch:8089/multidata/getDataSafely'\n",
    "\n",
    "# # Special function to split up time period to retrieve data\n",
    "# def perdelta(start, end, delta):\n",
    "#     curr = start\n",
    "#     while curr < end:\n",
    "#         yield curr, min(curr + delta, end)\n",
    "#         curr += delta\n",
    "\n",
    "\n",
    "# for module,LVPS in LVPS_data:\n",
    "#     filenames=[]\n",
    "#     counter=0\n",
    "#     start = datetime.strptime(startdate_.split(\" \")[0], \"%Y.%m.%d\")\n",
    "#     end = datetime.strptime(enddate_.split(\" \")[0], \"%Y.%m.%d\")\n",
    "\n",
    "#     for s, e in perdelta(date(2022, 7, 4), date(2022, 11, 28), timedelta(days=30)):\n",
    "#         counter+=1\n",
    "\n",
    "#         #Format retrieval parameters (temporary filename and LVPS for single digit)\n",
    "#         output_file=datapath+str(module)+str(LVPS)+\"_\"+str(counter)+\".txt\"\n",
    "#         if int(LVPS)<10: LVPS = str(LVPS)[-1]\n",
    "\n",
    "#         cmd = 'wget -O '+output_file+' --post-data \"queryInfo=atlas_pvssTIL, comment_, TIL '+module+' LVPS '+LVPS+' MotherBoard 5V OUTPUT_I, ' + s.strftime(\"%d-%m-%Y\") + ' 00:00, ' + e.strftime(\"%d-%m-%Y\") + ' 00:00, , , , , ,no, , +1!\" ' + url \n",
    "#         system(cmd) \n",
    "#         filenames.append(output_file)\n",
    "#     print(filenames)\n",
    "#     if int(LVPS)<10: LVPS = \"0\"+str(int(LVPS))\n",
    "#     else: LVPS=str(LVPS)\n",
    "\n",
    "#     new_output_file = datapath+module+LVPS+\"_5VMotherboardCurrent.txt\"\n",
    "#     with open(new_output_file, 'w') as outfile:\n",
    "#         for fname in filenames:\n",
    "#             with open(fname) as infile:\n",
    "#                 for line in infile:\n",
    "#                     outfile.write(line)\n",
    "#             remove(fname)"
   ]
  },
  {
   "cell_type": "code",
   "execution_count": null,
   "metadata": {},
   "outputs": [],
   "source": [
    "# Plotting\n",
    "\n",
    "# Retrieve data from online\n",
    "# Setup folder to feed in data\n",
    "plotpath = \"plots\"\n",
    "print(listdir(datapath))\n",
    "if plotpath not in listdir(path):\n",
    "    mkdir(plotpath)\n",
    "plotpath = \"./\"+plotpath+\"/\"\n",
    "\n",
    "files = [f for f in listdir(datapath) if isfile(join(plotpath, f))]\n",
    "print(files)\n",
    "\n",
    "exit()\n",
    "infile = open(\"LBA01.txt\",\"r\")\n",
    "module = [\"LBA\",\"EBA\",\"LBC\",\"EBC\"]\n",
    "N=64\n",
    "print(infile)\n",
    "for mod in module:\n",
    "    for j in range(64):\n",
    "        i=j+1\n",
    "        if i<10:istr=\"0\"+str(i)\n",
    "        else: istr=str(i)\n",
    "        infile_name = mod+istr+\".txt\"\n",
    "        infile=open(infile_name,\"r\")\n",
    "\n",
    "        for line in infile:\n",
    "            data = line.split(\", \")[1:]\n",
    "        # print(data)\n",
    "        I,t =[],[]\n",
    "        for i, entry in enumerate(data):\n",
    "            if \"LVPS\" not in entry:\n",
    "                current = entry.split(\" \")[0]\n",
    "                date_time = entry.split(\" \")[1]+\" \"+entry.split(\" \")[2]\n",
    "                time = datetime.datetime.strptime(date_time, \"%d-%m-%Y %H:%M:%S:%f\")\n",
    "                if i==0:\n",
    "                    referencetime=datetime.datetime.strptime(date_time, \"%d-%m-%Y %H:%M:%S:%f\")\n",
    "                delta = time-referencetime\n",
    "                t.append(delta.total_seconds())\n",
    "                I.append(np.around(float(current),decimals=2))\n",
    "        plt.step(t,I, where=\"post\")\n",
    "        plt.ylabel(\"Current [A]\")\n",
    "        plt.xlabel(\"Time Since Beginning of Run 3 [s]\")\n",
    "        plt.suptitle(mod+istr)\n",
    "        plt.tight_layout()\n",
    "        plt.savefig(mod+istr+\".png\")\n"
   ]
  },
  {
   "cell_type": "code",
   "execution_count": null,
   "metadata": {},
   "outputs": [],
   "source": []
  }
 ],
 "metadata": {
  "kernelspec": {
   "display_name": "base",
   "language": "python",
   "name": "python3"
  },
  "language_info": {
   "codemirror_mode": {
    "name": "ipython",
    "version": 3
   },
   "file_extension": ".py",
   "mimetype": "text/x-python",
   "name": "python",
   "nbconvert_exporter": "python",
   "pygments_lexer": "ipython3",
   "version": "3.8.8"
  },
  "orig_nbformat": 4,
  "vscode": {
   "interpreter": {
    "hash": "f5cd194cc3d70fcbb5fe592e6ea35a05b48cfe609ff1392cee52c8aa9015f6b7"
   }
  }
 },
 "nbformat": 4,
 "nbformat_minor": 2
}
