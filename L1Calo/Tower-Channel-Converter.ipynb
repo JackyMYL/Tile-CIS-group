{
 "cells": [
  {
   "cell_type": "code",
   "execution_count": 10,
   "metadata": {},
   "outputs": [],
   "source": [
    "import numpy as np\n",
    "import csv"
   ]
  },
  {
   "cell_type": "code",
   "execution_count": 11,
   "metadata": {},
   "outputs": [],
   "source": [
    "PMTmapLB = {\n",
    "  \"Tower1\":[5,2,3,4,1],\n",
    "  \"Tower2\":[9,6,7,8,14],\n",
    "  \"Tower3\":[11,10,13,12,15],\n",
    "  \"Tower4\":[19,16,17,18,26],\n",
    "  \"Tower5\":[21,20,23,22,27],\n",
    "  \"Tower6\":[25,24,29,30,40],\n",
    "  \"Tower7\":[31,28,35,36,43],\n",
    "  \"Tower8\":[37,34,41,42],\n",
    "  \"Tower9\":[39,38,45,46,47,48]}\n",
    "\n",
    "PMTmapEB = {\n",
    "  \"Tower1\":[5,6,3,4,17],\n",
    "  \"Tower2\":[9,10,18],\n",
    "  \"Tower3\":[7,8,15,16,37],\n",
    "  \"Tower4\":[11,12,23,24,38],\n",
    "  \"Tower5\":[21,22,33,34],\n",
    "  \"Tower6\":[29,30,43,44,41,42]}\n",
    "\n",
    "L1Calomap = []\n",
    "with open(\"./tileL1Calo.csv\", \"r\") as file:\n",
    "    reader = csv.reader(file)\n",
    "    for row in reader:\n",
    "        if len(row) != 0:\n",
    "            L1Calomap.append(row)\n",
    "        \n"
   ]
  },
  {
   "cell_type": "code",
   "execution_count": 25,
   "metadata": {},
   "outputs": [],
   "source": [
    "def L1CaloToPMT(L1CaloID):\n",
    "    for i,mapping in enumerate(L1Calomap):\n",
    "        ID = mapping[0]\n",
    "        if ID == L1CaloID:\n",
    "            drawer = mapping[1]\n",
    "            tower = mapping[2]\n",
    "            if \"EB\" in drawer: PMTmap = PMTmapEB\n",
    "            elif \"LB\" in drawer: PMTmap = PMTmapLB\n",
    "    return {\"Drawer\":drawer, \"PMTList\":PMTmap[tower]}\n",
    "\n",
    "def PMTtoL1Calo(partition, PMT):\n",
    "    if \"EB\" in partition: PMTmap = PMTmapEB\n",
    "    elif \"LB\" in partition: PMTmap = PMTmapLB\n",
    "    key_list = list(PMTmap.keys())\n",
    "    val_list = list(PMTmap.values())\n",
    "    for i, map in enumerate(val_list):\n",
    "         if PMT in map:\n",
    "              tower = key_list[val_list.index(map)]\n",
    "    for i,mapping in enumerate(L1Calomap):\n",
    "        if tower == mapping[2] and partition == mapping[1]:\n",
    "            ID = mapping[0] \n",
    "    return ID"
   ]
  },
  {
   "cell_type": "code",
   "execution_count": 26,
   "metadata": {},
   "outputs": [
    {
     "name": "stdout",
     "output_type": "stream",
     "text": [
      "Enter Information\n",
      "(If unknown, just press ENTER key)\n"
     ]
    }
   ],
   "source": [
    "print(\"Enter Information\\n(If unknown, just press ENTER key)\")\n",
    "partition = input(\"Partition (Format: LBA01)\")\n",
    "PMT = int(input(\"PMT\"))\n",
    "L1CaloID = input(\"L1CaloID\")\n",
    "\n",
    "if partition == \"\": partition==None\n",
    "if PMT == \"\": PMT==None\n",
    "if L1CaloID == \"\": L1CaloID==None"
   ]
  },
  {
   "cell_type": "code",
   "execution_count": 27,
   "metadata": {},
   "outputs": [
    {
     "name": "stdout",
     "output_type": "stream",
     "text": [
      "0x06100c03\n"
     ]
    }
   ],
   "source": [
    "if not partition and PMT:\n",
    "    Exception(\"Enter BOTH partition and PMT\")\n",
    "elif partition and not PMT:\n",
    "    Exception(\"Enter BOTH partition and PMT\")\n",
    "if  partition and PMT and L1CaloID:\n",
    "    Exception(\"Too many arguments\")\n",
    "elif not (partition or PMT or L1CaloID):\n",
    "    Exception(\"No arguments given\")\n",
    "if partition and PMT:\n",
    "    print(PMTtoL1Calo(partition, PMT))\n",
    "elif L1CaloID:\n",
    "    print(L1CaloToPMT(L1CaloID))"
   ]
  },
  {
   "cell_type": "code",
   "execution_count": null,
   "metadata": {},
   "outputs": [],
   "source": []
  }
 ],
 "metadata": {
  "kernelspec": {
   "display_name": "base",
   "language": "python",
   "name": "python3"
  },
  "language_info": {
   "codemirror_mode": {
    "name": "ipython",
    "version": 3
   },
   "file_extension": ".py",
   "mimetype": "text/x-python",
   "name": "python",
   "nbconvert_exporter": "python",
   "pygments_lexer": "ipython3",
   "version": "3.8.16"
  },
  "orig_nbformat": 4
 },
 "nbformat": 4,
 "nbformat_minor": 2
}
